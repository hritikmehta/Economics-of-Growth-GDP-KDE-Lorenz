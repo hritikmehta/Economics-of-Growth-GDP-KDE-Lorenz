{
 "cells": [
  {
   "cell_type": "code",
   "execution_count": 1,
   "metadata": {},
   "outputs": [],
   "source": [
    "## importing libaries\n",
    "import pandas as pd\n",
    "import numpy as np\n",
    "import datetime\n",
    "from pandas import ExcelWriter"
   ]
  },
  {
   "cell_type": "code",
   "execution_count": 2,
   "metadata": {},
   "outputs": [],
   "source": [
    "### Reading the given data-set\n",
    "Data = pd.read_excel(\"data_1.xlsx\")"
   ]
  },
  {
   "cell_type": "markdown",
   "metadata": {},
   "source": [
    "### Exploaring the dataset"
   ]
  },
  {
   "cell_type": "code",
   "execution_count": null,
   "metadata": {},
   "outputs": [],
   "source": [
    "Data.info()"
   ]
  },
  {
   "cell_type": "code",
   "execution_count": null,
   "metadata": {},
   "outputs": [],
   "source": [
    "# Check for null values\n",
    "Data.isnull().sum()"
   ]
  },
  {
   "cell_type": "code",
   "execution_count": null,
   "metadata": {},
   "outputs": [],
   "source": [
    "Data.dropna(inplace=True)"
   ]
  },
  {
   "cell_type": "code",
   "execution_count": null,
   "metadata": {},
   "outputs": [],
   "source": [
    "Data.info()"
   ]
  },
  {
   "cell_type": "code",
   "execution_count": null,
   "metadata": {},
   "outputs": [],
   "source": [
    "#Creating Copy of original Data\n",
    "Working_data=Data"
   ]
  },
  {
   "cell_type": "code",
   "execution_count": null,
   "metadata": {},
   "outputs": [],
   "source": [
    "Working_data_1970=Data.loc[Data[\"Year\"] == 1970]\n",
    "Working_data_1975=Data.loc[Data[\"Year\"] == 1975]"
   ]
  },
  {
   "cell_type": "markdown",
   "metadata": {},
   "source": [
    "### Dividing the dataset into two datasets as per the year for better analysis"
   ]
  },
  {
   "cell_type": "code",
   "execution_count": null,
   "metadata": {},
   "outputs": [],
   "source": [
    "Working_data_1970"
   ]
  },
  {
   "cell_type": "code",
   "execution_count": null,
   "metadata": {},
   "outputs": [],
   "source": [
    "Working_data_1975"
   ]
  },
  {
   "cell_type": "code",
   "execution_count": null,
   "metadata": {},
   "outputs": [],
   "source": [
    "### using log function\n",
    "Working_data_1970[\"log_of_real_per_capita_GDP\"]=np.log(Working_data_1970[\"Per-Capita_Real_GDP\"])\n",
    "Working_data_1975[\"log_of_real_per_capita_GDP\"]=np.log(Working_data_1975[\"Per-Capita_Real_GDP\"])"
   ]
  },
  {
   "cell_type": "markdown",
   "metadata": {},
   "source": [
    "### Ploting the Kernel Density Plot"
   ]
  },
  {
   "cell_type": "code",
   "execution_count": null,
   "metadata": {},
   "outputs": [],
   "source": [
    "import seaborn as sns\n",
    "import matplotlib.pyplot as plt\n",
    "plt.figure(figsize=(12, 6))\n",
    "plt.grid()\n",
    "plt.title('Kernel Density Plot for log of real per-capita GDP')\n",
    "plt.xlabel('log of real per-capita GDP')\n",
    "plt.ylabel('Relative Density')\n",
    "sns.kdeplot(Working_data_1970.log_of_real_per_capita_GDP, label=\"1970\", color=\"blue\",)\n",
    "sns.kdeplot(Working_data_1975.log_of_real_per_capita_GDP, label=\"1975\", color=\"darkorange\")\n",
    "plt.axvline(Working_data_1970.log_of_real_per_capita_GDP.mean(), color=\"blue\", linewidth=1.8, linestyle=\"dashed\")\n",
    "plt.axvline(Working_data_1975.log_of_real_per_capita_GDP.mean(), color=\"darkorange\", linewidth=1.8, linestyle=\"dashed\")"
   ]
  },
  {
   "cell_type": "code",
   "execution_count": null,
   "metadata": {},
   "outputs": [],
   "source": [
    "### saving the datasets for further analysis\n",
    "Working_data_1970.to_excel(\"Data 1970.xlsx\")\n",
    "Working_data_1975.to_excel(\"Data 1975.xlsx\")"
   ]
  },
  {
   "cell_type": "markdown",
   "metadata": {},
   "source": [
    "### Descriptive Statistic"
   ]
  },
  {
   "cell_type": "code",
   "execution_count": null,
   "metadata": {},
   "outputs": [],
   "source": [
    "from scipy.stats import kurtosis, skew\n",
    "print(\"skew : \",skew(Working_data_1970.log_of_real_per_capita_GDP))\n",
    "print(\"kurt : \",kurtosis(Working_data_1970.log_of_real_per_capita_GDP))"
   ]
  },
  {
   "cell_type": "code",
   "execution_count": 5,
   "metadata": {},
   "outputs": [
    {
     "ename": "NameError",
     "evalue": "name 'skew' is not defined",
     "output_type": "error",
     "traceback": [
      "\u001b[1;31m---------------------------------------------------------------------------\u001b[0m",
      "\u001b[1;31mNameError\u001b[0m                                 Traceback (most recent call last)",
      "\u001b[1;32m<ipython-input-5-0831dc889356>\u001b[0m in \u001b[0;36m<module>\u001b[1;34m\u001b[0m\n\u001b[1;32m----> 1\u001b[1;33m \u001b[0mprint\u001b[0m\u001b[1;33m(\u001b[0m\u001b[1;34m\"skew : \"\u001b[0m\u001b[1;33m,\u001b[0m\u001b[0mskew\u001b[0m\u001b[1;33m(\u001b[0m\u001b[0mWorking_data_1975\u001b[0m\u001b[1;33m.\u001b[0m\u001b[0mlog_of_real_per_capita_GDP\u001b[0m\u001b[1;33m)\u001b[0m\u001b[1;33m)\u001b[0m\u001b[1;33m\u001b[0m\u001b[1;33m\u001b[0m\u001b[0m\n\u001b[0m\u001b[0;32m      2\u001b[0m \u001b[0mprint\u001b[0m\u001b[1;33m(\u001b[0m\u001b[1;34m\"kurt : \"\u001b[0m\u001b[1;33m,\u001b[0m\u001b[0mkurtosis\u001b[0m\u001b[1;33m(\u001b[0m\u001b[0mWorking_data_1975\u001b[0m\u001b[1;33m.\u001b[0m\u001b[0mlog_of_real_per_capita_GDP\u001b[0m\u001b[1;33m)\u001b[0m\u001b[1;33m)\u001b[0m\u001b[1;33m\u001b[0m\u001b[1;33m\u001b[0m\u001b[0m\n",
      "\u001b[1;31mNameError\u001b[0m: name 'skew' is not defined"
     ]
    }
   ],
   "source": [
    "print(\"skew : \",skew(Working_data_1975.log_of_real_per_capita_GDP))\n",
    "print(\"kurt : \",kurtosis(Working_data_1975.log_of_real_per_capita_GDP))"
   ]
  },
  {
   "cell_type": "code",
   "execution_count": null,
   "metadata": {},
   "outputs": [],
   "source": [
    "from scipy import stats\n",
    "jarque_bera_test_1970 = stats.jarque_bera(Working_data_1970.log_of_real_per_capita_GDP)\n",
    "print (jarque_bera_test_1970)"
   ]
  },
  {
   "cell_type": "code",
   "execution_count": null,
   "metadata": {},
   "outputs": [],
   "source": [
    "from scipy import stats\n",
    "jarque_bera_test_1975 = stats.jarque_bera(Working_data_1975.log_of_real_per_capita_GDP)\n",
    "print (jarque_bera_test_1975)"
   ]
  }
 ],
 "metadata": {
  "kernelspec": {
   "display_name": "Python 3",
   "language": "python",
   "name": "python3"
  },
  "language_info": {
   "codemirror_mode": {
    "name": "ipython",
    "version": 3
   },
   "file_extension": ".py",
   "mimetype": "text/x-python",
   "name": "python",
   "nbconvert_exporter": "python",
   "pygments_lexer": "ipython3",
   "version": "3.7.4"
  }
 },
 "nbformat": 4,
 "nbformat_minor": 4
}
